{
 "cells": [
  {
   "cell_type": "code",
   "execution_count": 2,
   "id": "b3c3d6f8-4de5-4c08-8414-4a27dab5e3fc",
   "metadata": {},
   "outputs": [
    {
     "ename": "NameError",
     "evalue": "name 'folium' is not defined",
     "output_type": "error",
     "traceback": [
      "\u001b[0;31m---------------------------------------------------------------------------\u001b[0m",
      "\u001b[0;31mNameError\u001b[0m                                 Traceback (most recent call last)",
      "Cell \u001b[0;32mIn[2], line 2\u001b[0m\n\u001b[1;32m      1\u001b[0m \u001b[38;5;28;01mimport\u001b[39;00m \u001b[38;5;21;01mfolium\u001b[39;00m   \u001b[38;5;66;03m# folium을 호출\u001b[39;00m\n\u001b[0;32m----> 2\u001b[0m \u001b[38;5;28;01mfrom\u001b[39;00m \u001b[38;5;21;01mbuildingList\u001b[39;00m \u001b[38;5;28;01mimport\u001b[39;00m building \u001b[38;5;66;03m# 외부파일 buildingList 로부터 클래스 building 호출\u001b[39;00m\n\u001b[1;32m      4\u001b[0m center \u001b[38;5;241m=\u001b[39m [\u001b[38;5;241m36.908\u001b[39m, \u001b[38;5;241m127.143619452225\u001b[39m] \u001b[38;5;66;03m# 남서울대학교의 [위도, 경도] 불러오는 함수\u001b[39;00m\n\u001b[1;32m      5\u001b[0m m \u001b[38;5;241m=\u001b[39m folium\u001b[38;5;241m.\u001b[39mMap(location\u001b[38;5;241m=\u001b[39mcenter, zoom_start\u001b[38;5;241m=\u001b[39m\u001b[38;5;241m15.5\u001b[39m) \u001b[38;5;66;03m# m 변수 지정, 남서울대학교, 화면 해상도 15.5\u001b[39;00m\n",
      "File \u001b[0;32m~/Desktop/NSUmap/buildingList.py:34\u001b[0m\n\u001b[1;32m     31\u001b[0m markinglist \u001b[38;5;241m=\u001b[39m \u001b[38;5;28mlist\u001b[39m() \u001b[38;5;66;03m# 건물 마킹을 저장해주는 리스트\u001b[39;00m\n\u001b[1;32m     33\u001b[0m \u001b[38;5;66;03m# 건물 마킹\u001b[39;00m\n\u001b[0;32m---> 34\u001b[0m markinglist\u001b[38;5;241m.\u001b[39mappend(\u001b[43mbon\u001b[49m\u001b[38;5;241;43m.\u001b[39;49m\u001b[43mmarking\u001b[49m\u001b[43m(\u001b[49m\u001b[38;5;124;43m\"\u001b[39;49m\u001b[38;5;124;43mblue\u001b[39;49m\u001b[38;5;124;43m\"\u001b[39;49m\u001b[43m,\u001b[49m\u001b[43m \u001b[49m\u001b[38;5;124;43m\"\u001b[39;49m\u001b[38;5;124;43mcircle\u001b[39;49m\u001b[38;5;124;43m\"\u001b[39;49m\u001b[43m)\u001b[49m) \u001b[38;5;66;03m# 본관\u001b[39;00m\n\u001b[1;32m     35\u001b[0m markinglist\u001b[38;5;241m.\u001b[39mappend(sanggyeong\u001b[38;5;241m.\u001b[39mmarking(\u001b[38;5;124m\"\u001b[39m\u001b[38;5;124mblue\u001b[39m\u001b[38;5;124m\"\u001b[39m, \u001b[38;5;124m\"\u001b[39m\u001b[38;5;124mcircle\u001b[39m\u001b[38;5;124m\"\u001b[39m)) \u001b[38;5;66;03m# 상경학관\u001b[39;00m\n\u001b[1;32m     36\u001b[0m markinglist\u001b[38;5;241m.\u001b[39mappend(hwajeong\u001b[38;5;241m.\u001b[39mmarking(\u001b[38;5;124m\"\u001b[39m\u001b[38;5;124mblue\u001b[39m\u001b[38;5;124m\"\u001b[39m, \u001b[38;5;124m\"\u001b[39m\u001b[38;5;124mcircle\u001b[39m\u001b[38;5;124m\"\u001b[39m)) \u001b[38;5;66;03m# 화정관\u001b[39;00m\n",
      "File \u001b[0;32m~/Desktop/NSUmap/buildingList.py:6\u001b[0m, in \u001b[0;36mbuilding.marking\u001b[0;34m(self, color, icon)\u001b[0m\n\u001b[1;32m      5\u001b[0m \u001b[38;5;28;01mdef\u001b[39;00m \u001b[38;5;21mmarking\u001b[39m(\u001b[38;5;28mself\u001b[39m, color, icon):   \n\u001b[0;32m----> 6\u001b[0m     \u001b[38;5;28;01mreturn\u001b[39;00m \u001b[43mfolium\u001b[49m\u001b[38;5;241m.\u001b[39mMarker(location \u001b[38;5;241m=\u001b[39m \u001b[38;5;28mself\u001b[39m\u001b[38;5;241m.\u001b[39mlocation,\n\u001b[1;32m      7\u001b[0m     popup\u001b[38;5;241m=\u001b[39m\u001b[38;5;28mself\u001b[39m\u001b[38;5;241m.\u001b[39mname,\n\u001b[1;32m      8\u001b[0m     icon\u001b[38;5;241m=\u001b[39mfolium\u001b[38;5;241m.\u001b[39mIcon(color\u001b[38;5;241m=\u001b[39mcolor,icon\u001b[38;5;241m=\u001b[39micon)\n\u001b[1;32m      9\u001b[0m     )\n",
      "\u001b[0;31mNameError\u001b[0m: name 'folium' is not defined"
     ]
    }
   ],
   "source": [
    "import folium   # folium을 호출\n",
    "from buildingList import building # 외부파일 buildingList 로부터 클래스 building 호출\n",
    "               \n",
    "center = [36.908, 127.143619452225] # 남서울대학교의 [위도, 경도] 불러오는 함수\n",
    "m = folium.Map(location=center, zoom_start=15.5) # m 변수 지정, 남서울대학교, 화면 해상도 15.5\n",
    "\n",
    "for mark in markinglist:    # 리스트에 저장된 마킹 추가\n",
    "    mark.add_to(m)\n",
    "\n",
    "m # 지도 출력\n",
    "\n",
    "\n",
    "\n",
    "\n",
    "    "
   ]
  },
  {
   "cell_type": "code",
   "execution_count": null,
   "id": "b7acdbba-7e52-46b5-acab-126f1cd720cc",
   "metadata": {},
   "outputs": [],
   "source": []
  },
  {
   "cell_type": "code",
   "execution_count": null,
   "id": "7571d133-1eb0-48ec-b9ec-d7c3e64820b6",
   "metadata": {},
   "outputs": [],
   "source": []
  },
  {
   "cell_type": "code",
   "execution_count": null,
   "id": "28cc59c1-a1d9-4b3f-92a9-65e0c8ac7dea",
   "metadata": {},
   "outputs": [],
   "source": []
  },
  {
   "cell_type": "code",
   "execution_count": null,
   "id": "f03d3cf0-e5bc-40a1-b8f5-abc5e83a2de4",
   "metadata": {},
   "outputs": [],
   "source": []
  },
  {
   "cell_type": "code",
   "execution_count": null,
   "id": "d6a3999c-7805-45dc-8fd9-49881405d52c",
   "metadata": {},
   "outputs": [],
   "source": []
  }
 ],
 "metadata": {
  "kernelspec": {
   "display_name": "Python 3 (ipykernel)",
   "language": "python",
   "name": "python3"
  },
  "language_info": {
   "codemirror_mode": {
    "name": "ipython",
    "version": 3
   },
   "file_extension": ".py",
   "mimetype": "text/x-python",
   "name": "python",
   "nbconvert_exporter": "python",
   "pygments_lexer": "ipython3",
   "version": "3.9.6"
  }
 },
 "nbformat": 4,
 "nbformat_minor": 5
}
